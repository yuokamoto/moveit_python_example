{
 "cells": [
  {
   "cell_type": "code",
   "execution_count": 1,
   "metadata": {},
   "outputs": [
    {
     "name": "stdout",
     "output_type": "stream",
     "text": [
      "Failed to import pyassimp, see https://github.com/ros-planning/moveit/issues/86 for more info\n",
      "============ Reference frame: /panda_link0\n",
      "============ End effector: panda_link8\n",
      "============ Robot Groups: ['hand', 'panda_arm']\n",
      "============ Printing robot state\n",
      "joint_state: \n",
      "  header: \n",
      "    seq: 0\n",
      "    stamp: \n",
      "      secs: 0\n",
      "      nsecs:         0\n",
      "    frame_id: \"/panda_link0\"\n",
      "  name: [panda_joint1, panda_joint2, panda_joint3, panda_joint4, panda_joint5, panda_joint6,\n",
      "  panda_joint7, panda_finger_joint1, panda_finger_joint2]\n",
      "  position: [0.0, 0.0, 0.0, -1.5708, 0.0, 0.0, 0.0, 0.0, 0.0]\n",
      "  velocity: []\n",
      "  effort: []\n",
      "multi_dof_joint_state: \n",
      "  header: \n",
      "    seq: 0\n",
      "    stamp: \n",
      "      secs: 0\n",
      "      nsecs:         0\n",
      "    frame_id: \"/panda_link0\"\n",
      "  joint_names: []\n",
      "  transforms: []\n",
      "  twist: []\n",
      "  wrench: []\n",
      "attached_collision_objects: []\n",
      "is_diff: False\n",
      "\n"
     ]
    }
   ],
   "source": [
    "import sys\n",
    "import copy\n",
    "import rospy\n",
    "import moveit_commander\n",
    "import moveit_msgs.msg\n",
    "import geometry_msgs.msg\n",
    "from math import pi\n",
    "from std_msgs.msg import String\n",
    "from moveit_commander.conversions import pose_to_list\n",
    "\n",
    "moveit_commander.roscpp_initialize(sys.argv)\n",
    "rospy.init_node('move_group_python_interface_tutorial',\n",
    "                anonymous=True)\n",
    "\n",
    "robot = moveit_commander.RobotCommander()\n",
    "scene = moveit_commander.PlanningSceneInterface()\n",
    "group_name = \"panda_arm\"\n",
    "group = moveit_commander.MoveGroupCommander(group_name)\n",
    "display_trajectory_publisher = rospy.Publisher('/move_group/display_planned_path',\n",
    "                                               moveit_msgs.msg.DisplayTrajectory,\n",
    "                                               queue_size=20)\n",
    "\n",
    "# We can get the name of the reference frame for this robot:\n",
    "planning_frame = group.get_planning_frame()\n",
    "print \"============ Reference frame: %s\" % planning_frame\n",
    "\n",
    "# We can also print the name of the end-effector link for this group:\n",
    "eef_link = group.get_end_effector_link()\n",
    "print \"============ End effector: %s\" % eef_link\n",
    "\n",
    "# We can get a list of all the groups in the robot:\n",
    "group_names = robot.get_group_names()\n",
    "print \"============ Robot Groups:\", robot.get_group_names()\n",
    "\n",
    "# Sometimes for debugging it is useful to print the entire state of the\n",
    "# robot:\n",
    "print \"============ Printing robot state\"\n",
    "print robot.get_current_state()\n",
    "print \"\""
   ]
  },
  {
   "cell_type": "code",
   "execution_count": 2,
   "metadata": {},
   "outputs": [],
   "source": [
    "# We can get the joint values from the group and adjust some of the values:\n",
    "joint_goal = group.get_current_joint_values()\n",
    "joint_goal[0] = 0\n",
    "joint_goal[1] = -pi/4\n",
    "joint_goal[2] = 0\n",
    "joint_goal[3] = -pi/2\n",
    "joint_goal[4] = 0\n",
    "joint_goal[5] = pi/3\n",
    "joint_goal[6] = 0\n",
    "\n",
    "# The go command can be called with joint values, poses, or without any\n",
    "# parameters if you have already set the pose or joint target for the group\n",
    "group.go(joint_goal, wait=True)\n",
    "\n",
    "# Calling ``stop()`` ensures that there is no residual movement\n",
    "group.stop()"
   ]
  },
  {
   "cell_type": "code",
   "execution_count": 3,
   "metadata": {},
   "outputs": [],
   "source": [
    "pose_goal = geometry_msgs.msg.Pose()\n",
    "pose_goal.orientation.w = 1.0\n",
    "pose_goal.position.x = 0.4\n",
    "pose_goal.position.y = 0.1\n",
    "pose_goal.position.z = 0.4\n",
    "group.set_pose_target(pose_goal)\n",
    "\n",
    "plan = group.go(wait=True)\n",
    "# Calling `stop()` ensures that there is no residual movement\n",
    "group.stop()\n",
    "# It is always good to clear your targets after planning with poses.\n",
    "# Note: there is no equivalent function for clear_joint_value_targets()\n",
    "group.clear_pose_targets()"
   ]
  },
  {
   "cell_type": "code",
   "execution_count": 4,
   "metadata": {},
   "outputs": [],
   "source": [
    "\n",
    "\n",
    "waypoints = []\n",
    "\n",
    "scale = 1.0\n",
    "wpose = group.get_current_pose().pose\n",
    "wpose.position.z -= scale * 0.1  # First move up (z)\n",
    "wpose.position.y += scale * 0.2  # and sideways (y)\n",
    "waypoints.append(copy.deepcopy(wpose))\n",
    "\n",
    "wpose.position.x += scale * 0.1  # Second move forward/backwards in (x)\n",
    "waypoints.append(copy.deepcopy(wpose))\n",
    "\n",
    "wpose.position.y -= scale * 0.1  # Third move sideways (y)\n",
    "waypoints.append(copy.deepcopy(wpose))\n",
    "\n",
    "# We want the Cartesian path to be interpolated at a resolution of 1 cm\n",
    "# which is why we will specify 0.01 as the eef_step in Cartesian\n",
    "# translation.  We will disable the jump threshold by setting it to 0.0 disabling:\n",
    "(plan, fraction) = group.compute_cartesian_path(\n",
    "                                   waypoints,   # waypoints to follow\n",
    "                                   0.01,        # eef_step\n",
    "                                   0.0)         # jump_threshold"
   ]
  },
  {
   "cell_type": "code",
   "execution_count": 5,
   "metadata": {},
   "outputs": [],
   "source": [
    "display_trajectory = moveit_msgs.msg.DisplayTrajectory()\n",
    "display_trajectory.trajectory_start = robot.get_current_state()\n",
    "display_trajectory.trajectory.append(plan)\n",
    "# Publish\n",
    "display_trajectory_publisher.publish(display_trajectory);"
   ]
  },
  {
   "cell_type": "code",
   "execution_count": 6,
   "metadata": {},
   "outputs": [
    {
     "data": {
      "text/plain": [
       "True"
      ]
     },
     "execution_count": 6,
     "metadata": {},
     "output_type": "execute_result"
    }
   ],
   "source": [
    "group.execute(plan, wait=True)"
   ]
  },
  {
   "cell_type": "code",
   "execution_count": 7,
   "metadata": {},
   "outputs": [],
   "source": [
    "def wait_for_state_update(box_is_known=False, box_is_attached=False, timeout=4):\n",
    "    # Copy class variables to local variables to make the web tutorials more clear.\n",
    "    # In practice, you should use the class variables directly unless you have a good\n",
    "    # reason not to.\n",
    "    \n",
    "    box_name='box'\n",
    "\n",
    "    ## BEGIN_SUB_TUTORIAL wait_for_scene_update\n",
    "    ##\n",
    "    ## Ensuring Collision Updates Are Receieved\n",
    "    ## ^^^^^^^^^^^^^^^^^^^^^^^^^^^^^^^^^^^^^^^^\n",
    "    ## If the Python node dies before publishing a collision object update message, the message\n",
    "    ## could get lost and the box will not appear. To ensure that the updates are\n",
    "    ## made, we wait until we see the changes reflected in the\n",
    "    ## ``get_known_object_names()`` and ``get_known_object_names()`` lists.\n",
    "    ## For the purpose of this tutorial, we call this function after adding,\n",
    "    ## removing, attaching or detaching an object in the planning scene. We then wait\n",
    "    ## until the updates have been made or ``timeout`` seconds have passed\n",
    "    start = rospy.get_time()\n",
    "    seconds = rospy.get_time()\n",
    "    while (seconds - start < timeout) and not rospy.is_shutdown():\n",
    "        # Test if the box is in attached objects\n",
    "        attached_objects = scene.get_attached_objects([box_name])\n",
    "        is_attached = len(attached_objects.keys()) > 0\n",
    "\n",
    "        # Test if the box is in the scene.\n",
    "        # Note that attaching the box will remove it from known_objects\n",
    "        is_known = box_name in scene.get_known_object_names()\n",
    "        print scene.get_known_object_names()\n",
    "        \n",
    "        # Test if we are in the expected state\n",
    "        if (box_is_attached == is_attached) and (box_is_known == is_known):\n",
    "            return True\n",
    "\n",
    "        # Sleep so that we give other threads time on the processor\n",
    "        rospy.sleep(0.1)\n",
    "        seconds = rospy.get_time()\n",
    "\n",
    "    # If we exited the while loop without returning then we timed out\n",
    "    return False\n",
    "    ## END_SUB_TUTORIAL\n"
   ]
  },
  {
   "cell_type": "code",
   "execution_count": 14,
   "metadata": {},
   "outputs": [
    {
     "name": "stdout",
     "output_type": "stream",
     "text": [
      "['box']\n",
      "True\n"
     ]
    }
   ],
   "source": [
    "box_pose = geometry_msgs.msg.PoseStamped()\n",
    "box_pose.header.frame_id = \"panda_link0\"\n",
    "box_pose.pose.orientation.w = 1.0\n",
    "box_pose.pose.position.x = 0.65\n",
    "box_pose.pose.position.y = 0.0\n",
    "box_pose.pose.position.z = 0.6\n",
    "box_name = \"box\"\n",
    "scene.add_box(box_name, box_pose, size=(0.5, 0.05, 1.0))\n",
    "\n",
    "## END_SUB_TUTORIAL\n",
    "# Copy local variables back to class variables. In practice, you should use the class\n",
    "# variables directly unless you have a good reason not to.\n",
    "print wait_for_state_update(box_is_known=True, timeout=4)\n"
   ]
  },
  {
   "cell_type": "code",
   "execution_count": 15,
   "metadata": {},
   "outputs": [],
   "source": [
    "import rospy\n",
    "from moveit_msgs.msg import PlanningScene\n",
    "from moveit_msgs.srv import ApplyPlanningScene\n",
    "\n",
    "msg = PlanningScene()\n",
    "msg.is_diff = True\n",
    "msg.name = 'panda_arm'\n",
    "planning_scene_diff_publisher = rospy.Publisher('planning_scene',PlanningScene, queue_size=1)\n",
    "planning_scene_diff_publisher.publish(msg)\n",
    "\n",
    "# planning_scene_diff_client = rospy.ServiceProxy(\"apply_planning_scene\", ApplyPlanningScene)\n",
    "# rospy.wait_for_service(\"apply_planning_scene\")\n",
    "\n",
    "# srv = ApplyPlanningScene()\n",
    "# srv.scene = msg;\n",
    "# # print msg\n",
    "# print srv.scene.name\n",
    "# res = planning_scene_diff_client(srv);"
   ]
  },
  {
   "cell_type": "code",
   "execution_count": 17,
   "metadata": {},
   "outputs": [],
   "source": [
    "pose_goal = geometry_msgs.msg.Pose()\n",
    "pose_goal.orientation.y = 0.5\n",
    "pose_goal.orientation.w = 0.8\n",
    "pose_goal.position.x = 0.4\n",
    "pose_goal.position.y = .4\n",
    "pose_goal.position.z = 0.6\n",
    "group.set_pose_target(pose_goal)\n",
    "\n",
    "plan = group.go(wait=True)\n",
    "# Calling `stop()` ensures that there is no residual movement\n",
    "group.stop()\n",
    "# It is always good to clear your targets after planning with poses.\n",
    "# Note: there is no equivalent function for clear_joint_value_targets()\n",
    "group.clear_pose_targets()"
   ]
  },
  {
   "cell_type": "code",
   "execution_count": 18,
   "metadata": {},
   "outputs": [
    {
     "name": "stdout",
     "output_type": "stream",
     "text": [
      "['box', 'table1']\n",
      "['table1']\n"
     ]
    },
    {
     "data": {
      "text/plain": [
       "True"
      ]
     },
     "execution_count": 18,
     "metadata": {},
     "output_type": "execute_result"
    }
   ],
   "source": [
    "scene.remove_world_object('box')\n",
    "\n",
    "## **Note:** The object must be detached before we can remove it from the world\n",
    "## END_SUB_TUTORIAL\n",
    "\n",
    "# We wait for the planning scene to update.\n",
    "wait_for_state_update(box_is_attached=False, box_is_known=False, timeout=4)"
   ]
  },
  {
   "cell_type": "code",
   "execution_count": null,
   "metadata": {},
   "outputs": [],
   "source": []
  }
 ],
 "metadata": {
  "kernelspec": {
   "display_name": "Python 2",
   "language": "python",
   "name": "python2"
  },
  "language_info": {
   "codemirror_mode": {
    "name": "ipython",
    "version": 2
   },
   "file_extension": ".py",
   "mimetype": "text/x-python",
   "name": "python",
   "nbconvert_exporter": "python",
   "pygments_lexer": "ipython2",
   "version": "2.7.12"
  }
 },
 "nbformat": 4,
 "nbformat_minor": 2
}
