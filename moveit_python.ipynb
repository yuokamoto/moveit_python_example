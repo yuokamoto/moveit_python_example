{
 "cells": [
  {
   "cell_type": "code",
   "execution_count": 1,
   "metadata": {},
   "outputs": [
    {
     "name": "stdout",
     "output_type": "stream",
     "text": [
      "[INFO] [1565238142.681825]: Waiting for get_planning_scene\n"
     ]
    }
   ],
   "source": [
    "import rospy\n",
    "from moveit_python import *\n",
    "\n",
    "rospy.init_node(\"moveit_py\")\n",
    "g = MoveGroupInterface(\"panda_arm\", \"panda_link0\")\n",
    "p = PlanningSceneInterface(\"panda_link0\")"
   ]
  },
  {
   "cell_type": "code",
   "execution_count": 4,
   "metadata": {},
   "outputs": [],
   "source": [
    "joints = []\n",
    "for i in range(1,8):\n",
    "    joints.append('panda_joint'+str(i))\n",
    "\n",
    "res = g.moveToJointPosition(\n",
    "                  joints, \n",
    "                  [ 1.00, 0.5, \n",
    "                    0.00, 0.00, 0.50, \n",
    "                    1.5, -1.5])\n"
   ]
  },
  {
   "cell_type": "code",
   "execution_count": 2,
   "metadata": {},
   "outputs": [
    {
     "name": "stdout",
     "output_type": "stream",
     "text": [
      "[]\n"
     ]
    }
   ],
   "source": [
    "# reproduce pick and place tutorial with python\n",
    "\n",
    "# environment setup\n",
    "p.removeCollisionObject('table1')\n",
    "p.removeCollisionObject('table2')\n",
    "p.removeCollisionObject('object')\n",
    "p.addBox(\"table1\", 0.2,0.4,0.4, 0.5, 0.0, 0.2)\n",
    "p.addBox(\"table2\", 0.2,0.4,0.4, 0.0, 0.5, 0.2)\n",
    "p.addBox(\"object\", 0.02, 0.02, 0.2, 0.5, 0.0, 0.5)\n",
    "print p.getKnownCollisionObjects()"
   ]
  },
  {
   "cell_type": "code",
   "execution_count": 9,
   "metadata": {},
   "outputs": [],
   "source": [
    "from moveit_msgs.msg import Grasp, PlaceLocation\n",
    "from trajectory_msgs.msg import JointTrajectoryPoint\n",
    "from tf.transformations import *\n",
    "\n",
    "P = PickPlaceInterface(\"panda_arm\", \"hand\")\n",
    "\n",
    "grasp = Grasp()\n",
    "grasp.grasp_pose.header.frame_id = \"panda_link0\"\n",
    "q = quaternion_from_euler(-numpy.pi/2.0, -numpy.pi/4.0, -numpy.pi/2.0)\n",
    "grasp.grasp_pose.pose.orientation.x = q[0]\n",
    "grasp.grasp_pose.pose.orientation.y = q[1]\n",
    "grasp.grasp_pose.pose.orientation.z = q[2]\n",
    "grasp.grasp_pose.pose.orientation.w = q[3]\n",
    "grasp.grasp_pose.pose.position.x = 0.415\n",
    "grasp.grasp_pose.pose.position.y = 0.0\n",
    "grasp.grasp_pose.pose.position.z = 0.5\n",
    "\n",
    "grasp.pre_grasp_approach.direction.header.frame_id = \"panda_link0\"\n",
    "grasp.pre_grasp_approach.direction.vector.x = 1.0\n",
    "grasp.pre_grasp_approach.min_distance = 0.095\n",
    "grasp.pre_grasp_approach.desired_distance = 0.115\n",
    "\n",
    "grasp.post_grasp_retreat.direction.header.frame_id = \"panda_link0\";\n",
    "grasp.post_grasp_retreat.direction.vector.z = 1.0\n",
    "grasp.post_grasp_retreat.min_distance = 0.1\n",
    "grasp.post_grasp_retreat.desired_distance = 0.25\n",
    "\n",
    "#open gripper\n",
    "grasp.pre_grasp_posture.joint_names = [\n",
    "    \"panda_finger_joint1\",\n",
    "    \"panda_finger_joint2\"\n",
    "]\n",
    "\n",
    "jtp = JointTrajectoryPoint()\n",
    "jtp.positions = [0.04, 0.04]\n",
    "jtp.time_from_start = rospy.Duration.from_sec(0.5)\n",
    "grasp.pre_grasp_posture.points = [jtp]\n",
    "\n",
    "# #close gripper\n",
    "grasp.grasp_posture.joint_names = [\n",
    "    \"panda_finger_joint1\",\n",
    "    \"panda_finger_joint2\"\n",
    "]\n",
    "jtp2 = JointTrajectoryPoint()\n",
    "jtp2.positions = [0.00, 0.00]\n",
    "jtp2.time_from_start = rospy.Duration.from_sec(0.5)\n",
    "grasp.grasp_posture.points = [jtp2]\n",
    "\n",
    "# # print grasp\n",
    "res = P.pickup(\"object\", [grasp, ], support_name = \"table1\")\n",
    "\n",
    "\n",
    "# L = PlaceLocation()\n",
    "# # fill in l\n",
    "# P.place(\"object\", [L, ], goal_is_eef = True, support_name = \"table2\")"
   ]
  },
  {
   "cell_type": "code",
   "execution_count": 10,
   "metadata": {},
   "outputs": [],
   "source": [
    "location = PlaceLocation()\n",
    "\n",
    "location.place_pose.header.frame_id = \"panda_link0\"\n",
    "q = quaternion_from_euler(0.0, 0.0, numpy.pi/2.0)\n",
    "location.place_pose.pose.orientation.x = q[0]\n",
    "location.place_pose.pose.orientation.y = q[1]\n",
    "location.place_pose.pose.orientation.z = q[2]\n",
    "location.place_pose.pose.orientation.w = q[3]\n",
    "location.place_pose.pose.position.x = 0.0\n",
    "location.place_pose.pose.position.y = 0.5\n",
    "location.place_pose.pose.position.z = 0.5\n",
    "\n",
    "location.pre_place_approach.direction.header.frame_id = \"panda_link0\"\n",
    "location.pre_place_approach.direction.vector.z = -1.0\n",
    "location.pre_place_approach.min_distance = 0.095\n",
    "location.pre_place_approach.desired_distance = 0.115\n",
    "\n",
    "location.post_place_retreat.direction.header.frame_id = \"panda_link0\";\n",
    "location.post_place_retreat.direction.vector.y = -1.0\n",
    "location.post_place_retreat.min_distance = 0.1\n",
    "location.post_place_retreat.desired_distance = 0.25\n",
    "\n",
    "#open gripper\n",
    "location.post_place_posture.joint_names = [\n",
    "    \"panda_finger_joint1\",\n",
    "    \"panda_finger_joint2\"\n",
    "]\n",
    "\n",
    "jtp = JointTrajectoryPoint()\n",
    "jtp.positions = [0.04, 0.04]\n",
    "jtp.time_from_start = rospy.Duration.from_sec(0.5)\n",
    "location.post_place_posture.points = [jtp]\n",
    "\n",
    "res = P.place(\"object\", [location, ], support_name = \"table2\")"
   ]
  },
  {
   "cell_type": "code",
   "execution_count": null,
   "metadata": {},
   "outputs": [],
   "source": []
  }
 ],
 "metadata": {
  "kernelspec": {
   "display_name": "Python 2",
   "language": "python",
   "name": "python2"
  },
  "language_info": {
   "codemirror_mode": {
    "name": "ipython",
    "version": 2
   },
   "file_extension": ".py",
   "mimetype": "text/x-python",
   "name": "python",
   "nbconvert_exporter": "python",
   "pygments_lexer": "ipython2",
   "version": "2.7.12"
  }
 },
 "nbformat": 4,
 "nbformat_minor": 2
}
